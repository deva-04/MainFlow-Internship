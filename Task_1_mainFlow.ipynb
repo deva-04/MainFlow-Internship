{
 "cells": [
  {
   "cell_type": "markdown",
   "id": "060d24c8",
   "metadata": {},
   "source": [
    "# Main Flow Internship - Data Analysis with Python"
   ]
  },
  {
   "cell_type": "markdown",
   "id": "17c7430b",
   "metadata": {},
   "source": [
    "## Task - 01:\n",
    "### Write a python program to create a list, a dictionary and a set. Perform basic operations like adding, removing and modifying elements."
   ]
  },
  {
   "cell_type": "code",
   "execution_count": 3,
   "id": "cb975f2c",
   "metadata": {},
   "outputs": [
    {
     "name": "stdout",
     "output_type": "stream",
     "text": [
      "Original list: [1, 2, 3, 4, 5]\n",
      "List after adding element: [1, 2, 3, 4, 5, 6]\n",
      "List after removing element: [1, 2, 4, 5, 6]\n",
      "List after modifying element: [10, 2, 4, 5, 6]\n",
      "\n",
      "Original dictionary: {'a': 1, 'b': 2, 'c': 3}\n",
      "Dictionary after adding key-value pair: {'a': 1, 'b': 2, 'c': 3, 'd': 4}\n",
      "Dictionary after removing key-value pair: {'a': 1, 'c': 3, 'd': 4}\n",
      "Dictionary after modifying value: {'a': 100, 'c': 3, 'd': 4}\n",
      "\n",
      "Original set: {1, 2, 3, 4, 5}\n",
      "Set after adding element: {1, 2, 3, 4, 5, 6}\n",
      "Set after removing element: {1, 2, 4, 5, 6}\n"
     ]
    }
   ],
   "source": [
    "def main():\n",
    "    # List operations\n",
    "    my_list = [1, 2, 3, 4, 5]\n",
    "    print(\"Original list:\", my_list)\n",
    "\n",
    "    my_list.append(6)\n",
    "    print(\"List after adding element:\", my_list)\n",
    "\n",
    "    my_list.remove(3)\n",
    "    print(\"List after removing element:\", my_list)\n",
    "\n",
    "    my_list[0] = 10\n",
    "    print(\"List after modifying element:\", my_list)\n",
    "\n",
    "    # dictionary operations\n",
    "    my_dict = {'a': 1, 'b': 2, 'c': 3}\n",
    "    print(\"\\nOriginal dictionary:\", my_dict)\n",
    "    \n",
    "    my_dict['d'] = 4\n",
    "    print(\"Dictionary after adding key-value pair:\", my_dict)\n",
    "\n",
    "    del my_dict['b']\n",
    "    print(\"Dictionary after removing key-value pair:\", my_dict)\n",
    "\n",
    "    my_dict['a'] = 100\n",
    "    print(\"Dictionary after modifying value:\", my_dict)\n",
    "\n",
    "    # Set operations\n",
    "    my_set = {1, 2, 3, 4, 5}\n",
    "    print(\"\\nOriginal set:\", my_set)\n",
    "\n",
    "    my_set.add(6)\n",
    "    print(\"Set after adding element:\", my_set)\n",
    "\n",
    "    my_set.remove(3)\n",
    "    print(\"Set after removing element:\", my_set)\n",
    "\n",
    "    # my_set[0] = 10  # This will raise an error\n",
    "\n",
    "if __name__ == \"__main__\":\n",
    "    main()\n"
   ]
  },
  {
   "cell_type": "code",
   "execution_count": null,
   "id": "36118eec",
   "metadata": {},
   "outputs": [],
   "source": []
  }
 ],
 "metadata": {
  "kernelspec": {
   "display_name": "Python 3 (ipykernel)",
   "language": "python",
   "name": "python3"
  },
  "language_info": {
   "codemirror_mode": {
    "name": "ipython",
    "version": 3
   },
   "file_extension": ".py",
   "mimetype": "text/x-python",
   "name": "python",
   "nbconvert_exporter": "python",
   "pygments_lexer": "ipython3",
   "version": "3.9.13"
  }
 },
 "nbformat": 4,
 "nbformat_minor": 5
}
