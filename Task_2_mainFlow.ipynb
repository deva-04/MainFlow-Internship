{
 "cells": [
  {
   "cell_type": "code",
   "execution_count": 1,
   "id": "7328f7ce",
   "metadata": {},
   "outputs": [
    {
     "name": "stdout",
     "output_type": "stream",
     "text": [
      "Requirement already satisfied: pandas in c:\\users\\banda\\anaconda3\\lib\\site-packages (1.4.4)\n",
      "Requirement already satisfied: python-dateutil>=2.8.1 in c:\\users\\banda\\anaconda3\\lib\\site-packages (from pandas) (2.8.2)\n",
      "Requirement already satisfied: numpy>=1.18.5 in c:\\users\\banda\\anaconda3\\lib\\site-packages (from pandas) (1.26.4)\n",
      "Requirement already satisfied: pytz>=2020.1 in c:\\users\\banda\\anaconda3\\lib\\site-packages (from pandas) (2022.1)\n",
      "Requirement already satisfied: six>=1.5 in c:\\users\\banda\\anaconda3\\lib\\site-packages (from python-dateutil>=2.8.1->pandas) (1.16.0)\n",
      "Requirement already satisfied: numpy in c:\\users\\banda\\anaconda3\\lib\\site-packages (1.26.4)\n"
     ]
    }
   ],
   "source": [
    "import warnings\n",
    "warnings.filterwarnings(\"ignore\", category=FutureWarning)\n",
    "\n",
    "!pip install pandas\n",
    "!pip install numpy"
   ]
  },
  {
   "cell_type": "code",
   "execution_count": 2,
   "id": "43127e1a",
   "metadata": {},
   "outputs": [],
   "source": [
    "import pandas as pd\n",
    "file_path = \"C:\\\\Users\\\\banda\\\\Downloads\\\\01.Data Cleaning and Preprocessing.csv\"\n",
    "data = pd.read_csv(file_path)"
   ]
  },
  {
   "cell_type": "code",
   "execution_count": 3,
   "id": "84324fa9",
   "metadata": {
    "scrolled": true
   },
   "outputs": [
    {
     "name": "stdout",
     "output_type": "stream",
     "text": [
      "  Observation  Y-Kappa  ChipRate  BF-CMratio  BlowFlow  ChipLevel4   \\\n",
      "0    31-00:00    23.10    16.520     121.717  1177.607      169.805   \n",
      "1    31-01:00    27.60    16.810      79.022  1328.360      341.327   \n",
      "2    31-02:00    23.19    16.709      79.562  1329.407      239.161   \n",
      "3    31-03:00    23.60    16.478      81.011  1334.877      213.527   \n",
      "4    31-04:00    22.90    15.618      93.244  1334.168      243.131   \n",
      "\n",
      "   T-upperExt-2   T-lowerExt-2    UCZAA  WhiteFlow-4   ...  SteamFlow-4   \\\n",
      "0        358.282         329.545  1.443       599.253  ...        67.122   \n",
      "1        351.050         329.067  1.549       537.201  ...        60.012   \n",
      "2        350.022         329.260  1.600       549.611  ...        61.304   \n",
      "3        350.938         331.142  1.604       623.362  ...        68.496   \n",
      "4        351.640         332.709    NaN       638.672  ...        70.022   \n",
      "\n",
      "   Lower-HeatT-3  Upper-HeatT-3   ChipMass-4   WeakLiquorF   BlackFlow-2   \\\n",
      "0        329.432         303.099      175.964      1127.197      1319.039   \n",
      "1        330.823         304.879      163.202       665.975      1297.317   \n",
      "2        329.140         303.383      164.013       677.534      1327.072   \n",
      "3        328.875         302.254      181.487       767.853      1324.461   \n",
      "4        328.352         300.954      183.929       888.448      1343.424   \n",
      "\n",
      "   WeakWashF   SteamHeatF-3   T-Top-Chips-4   SulphidityL-4   \n",
      "0     257.325         54.612         252.077             NaN  \n",
      "1     241.182         46.603         251.406           29.11  \n",
      "2     237.272         51.795         251.335             NaN  \n",
      "3     239.478         54.846         250.312           29.02  \n",
      "4     215.372         54.186         249.916           29.01  \n",
      "\n",
      "[5 rows x 23 columns]\n"
     ]
    }
   ],
   "source": [
    "print(data.head())"
   ]
  },
  {
   "cell_type": "code",
   "execution_count": 4,
   "id": "87337d02",
   "metadata": {},
   "outputs": [
    {
     "name": "stdout",
     "output_type": "stream",
     "text": [
      "<class 'pandas.core.frame.DataFrame'>\n"
     ]
    }
   ],
   "source": [
    "print(type(data))"
   ]
  },
  {
   "cell_type": "code",
   "execution_count": 5,
   "id": "e68f5b15",
   "metadata": {
    "scrolled": true
   },
   "outputs": [
    {
     "name": "stdout",
     "output_type": "stream",
     "text": [
      "<bound method DataFrame.info of     Observation  Y-Kappa  ChipRate  BF-CMratio  BlowFlow  ChipLevel4   \\\n",
      "0      31-00:00    23.10    16.520     121.717  1177.607      169.805   \n",
      "1      31-01:00    27.60    16.810      79.022  1328.360      341.327   \n",
      "2      31-02:00    23.19    16.709      79.562  1329.407      239.161   \n",
      "3      31-03:00    23.60    16.478      81.011  1334.877      213.527   \n",
      "4      31-04:00    22.90    15.618      93.244  1334.168      243.131   \n",
      "..          ...      ...       ...         ...       ...          ...   \n",
      "319    10-16:00    23.75    12.667      93.450  1178.252      276.955   \n",
      "320     9-19:00    19.80    12.558      94.352  1184.119      297.071   \n",
      "321     9-20:00    23.01    12.550      90.842  1188.517      289.826   \n",
      "322     9-21:00    24.32    13.083      88.910  1192.879      318.006   \n",
      "323     9-22:00    25.75    13.417      85.451  1186.342      248.312   \n",
      "\n",
      "     T-upperExt-2   T-lowerExt-2    UCZAA  WhiteFlow-4   ...  SteamFlow-4   \\\n",
      "0          358.282         329.545  1.443       599.253  ...        67.122   \n",
      "1          351.050         329.067  1.549       537.201  ...        60.012   \n",
      "2          350.022         329.260  1.600       549.611  ...        61.304   \n",
      "3          350.938         331.142  1.604       623.362  ...        68.496   \n",
      "4          351.640         332.709    NaN       638.672  ...        70.022   \n",
      "..             ...             ...    ...           ...  ...           ...   \n",
      "319        347.286         310.970  1.523       513.956  ...        61.141   \n",
      "320        399.135         319.576  1.451       570.058  ...        67.667   \n",
      "321        373.633         314.591  1.457       549.306  ...        66.446   \n",
      "322        364.081         308.559  1.523       504.852  ...        61.054   \n",
      "323        356.289         310.482  1.474       497.375  ...        58.247   \n",
      "\n",
      "     Lower-HeatT-3  Upper-HeatT-3   ChipMass-4   WeakLiquorF   BlackFlow-2   \\\n",
      "0          329.432         303.099      175.964      1127.197      1319.039   \n",
      "1          330.823         304.879      163.202       665.975      1297.317   \n",
      "2          329.140         303.383      164.013       677.534      1327.072   \n",
      "3          328.875         302.254      181.487       767.853      1324.461   \n",
      "4          328.352         300.954      183.929       888.448      1343.424   \n",
      "..             ...             ...          ...           ...           ...   \n",
      "319        330.117         304.006      148.174      1027.201      1357.271   \n",
      "320        330.848         304.616      165.178       906.962      1311.177   \n",
      "321        330.226         304.686      160.841       887.125      1319.226   \n",
      "322        327.346         304.363      147.589       804.423      1320.225   \n",
      "323        328.092         304.093      144.218       828.328      1320.848   \n",
      "\n",
      "     WeakWashF   SteamHeatF-3   T-Top-Chips-4   SulphidityL-4   \n",
      "0       257.325         54.612         252.077             NaN  \n",
      "1       241.182         46.603         251.406           29.11  \n",
      "2       237.272         51.795         251.335             NaN  \n",
      "3       239.478         54.846         250.312           29.02  \n",
      "4       215.372         54.186         249.916           29.01  \n",
      "..          ...            ...             ...             ...  \n",
      "319     381.643         45.264         252.947           30.86  \n",
      "320      25.494         50.528         252.092           30.70  \n",
      "321       0.638         45.549         252.438             NaN  \n",
      "322       0.000         43.725         253.176           31.13  \n",
      "323       1.276         43.840         253.216             NaN  \n",
      "\n",
      "[324 rows x 23 columns]>\n"
     ]
    }
   ],
   "source": [
    "print(data.info)"
   ]
  },
  {
   "cell_type": "code",
   "execution_count": 6,
   "id": "51021fe8",
   "metadata": {},
   "outputs": [
    {
     "name": "stdout",
     "output_type": "stream",
     "text": [
      "(324, 23)\n"
     ]
    }
   ],
   "source": [
    "print(data.shape)"
   ]
  },
  {
   "cell_type": "code",
   "execution_count": 7,
   "id": "c4b4e749",
   "metadata": {
    "scrolled": true
   },
   "outputs": [
    {
     "name": "stdout",
     "output_type": "stream",
     "text": [
      "          Y-Kappa    ChipRate  BF-CMratio     BlowFlow  ChipLevel4   \\\n",
      "count  324.000000  319.000000  307.000000   308.000000   323.000000   \n",
      "mean    20.635370   14.347937   87.464456  1237.837614   258.164483   \n",
      "std      3.070036    1.499095    7.995012   100.593735    87.987452   \n",
      "min     12.170000    9.983000   68.645000     0.000000     0.000000   \n",
      "25%     18.382500   13.358000   81.823000  1193.215250   213.527000   \n",
      "50%     20.845000   14.308000   86.739000  1273.138500   271.792000   \n",
      "75%     23.032500   15.517000   92.372000  1289.196000   321.680000   \n",
      "max     27.600000   16.958000  121.717000  1351.240000   419.014000   \n",
      "\n",
      "       T-upperExt-2   T-lowerExt-2         UCZAA  WhiteFlow-4   AAWhiteSt-4   \\\n",
      "count     322.000000      322.000000  299.000000    323.000000    173.000000   \n",
      "mean      356.904295      324.020180    1.492010    591.732260      6.140410   \n",
      "std         9.209290        7.621402    0.105923     67.016351      0.081609   \n",
      "min       339.168000      284.633000    1.182000    405.111000      5.890000   \n",
      "25%       350.241250      321.420000    1.431500    540.989500      6.089000   \n",
      "50%       356.843000      325.669000    1.498000    592.895000      6.135000   \n",
      "75%       362.242250      329.175000    1.560500    639.480500      6.199000   \n",
      "max       399.135000      337.012000    1.747000    731.394000      6.340000   \n",
      "\n",
      "       ...  SteamFlow-4   Lower-HeatT-3  Upper-HeatT-3   ChipMass-4   \\\n",
      "count  ...    323.000000     322.000000      322.000000   323.000000   \n",
      "mean   ...     66.668285     325.567820      300.525699   162.222322   \n",
      "std    ...      5.708587       4.609862        4.568484    14.160688   \n",
      "min    ...     48.568000     318.051000      293.312000   113.922000   \n",
      "25%    ...     62.518000     321.385500      296.513250   153.032500   \n",
      "50%    ...     67.429000     324.741000      299.126000   163.690000   \n",
      "75%    ...     71.522000     329.845250      304.244750   172.555000   \n",
      "max    ...     76.147000     333.854000      311.146000   189.268000   \n",
      "\n",
      "       WeakLiquorF   BlackFlow-2   WeakWashF   SteamHeatF-3   T-Top-Chips-4   \\\n",
      "count    323.000000    322.000000  323.000000     322.000000      323.000000   \n",
      "mean     873.828941   1175.917016  263.543068      49.696907      251.240087   \n",
      "std      122.073521    149.334010  163.666942       4.551909        1.283432   \n",
      "min      486.938000    838.948000    0.000000      35.510000      248.359000   \n",
      "25%      792.019500   1044.817500  134.649000      46.389750      250.312000   \n",
      "50%      865.254000   1150.221500  269.193000      50.277000      251.380000   \n",
      "75%      965.286500   1319.021250  405.563000      53.294250      252.323500   \n",
      "max     1226.277000   1395.767000  715.715000      63.332000      254.122000   \n",
      "\n",
      "       SulphidityL-4   \n",
      "count      173.000000  \n",
      "mean        30.411671  \n",
      "std          0.701317  \n",
      "min         29.010000  \n",
      "25%         29.970000  \n",
      "50%         30.370000  \n",
      "75%         30.820000  \n",
      "max         32.840000  \n",
      "\n",
      "[8 rows x 22 columns]\n"
     ]
    }
   ],
   "source": [
    "print(data.describe())"
   ]
  },
  {
   "cell_type": "code",
   "execution_count": 9,
   "id": "c19e4a7c",
   "metadata": {
    "scrolled": true
   },
   "outputs": [
    {
     "name": "stdout",
     "output_type": "stream",
     "text": [
      "    Observation  Y-Kappa  ChipRate  BF-CMratio  BlowFlow  ChipLevel4   \\\n",
      "0      31-00:00    23.10    16.520     121.717  1177.607      169.805   \n",
      "1      31-01:00    27.60    16.810      79.022  1328.360      341.327   \n",
      "2      31-02:00    23.19    16.709      79.562  1329.407      239.161   \n",
      "3      31-03:00    23.60    16.478      81.011  1334.877      213.527   \n",
      "4      31-04:00    22.90    15.618      93.244  1334.168      243.131   \n",
      "..          ...      ...       ...         ...       ...          ...   \n",
      "298    12-09:00    20.90    15.167      84.640  1283.706      339.440   \n",
      "299    12-10:00    24.98       NaN      85.034  1278.345      368.564   \n",
      "300    12-11:00    21.00       NaN      88.013  1307.722      278.842   \n",
      "301    12-12:00    21.40       NaN      85.490  1255.986      273.484   \n",
      "307    31-05:00    20.89    14.308      94.172  1327.832      251.120   \n",
      "\n",
      "     T-upperExt-2   T-lowerExt-2    UCZAA  WhiteFlow-4   ...  SteamFlow-4   \\\n",
      "0          358.282         329.545  1.443       599.253  ...        67.122   \n",
      "1          351.050         329.067  1.549       537.201  ...        60.012   \n",
      "2          350.022         329.260  1.600       549.611  ...        61.304   \n",
      "3          350.938         331.142  1.604       623.362  ...        68.496   \n",
      "4          351.640         332.709    NaN       638.672  ...        70.022   \n",
      "..             ...             ...    ...           ...  ...           ...   \n",
      "298        354.803         311.041  1.635       532.419  ...        65.561   \n",
      "299        357.723         321.387    NaN       520.365  ...        65.729   \n",
      "300        357.438         323.757    NaN       553.070  ...        65.795   \n",
      "301        361.365         322.689    NaN       590.199  ...        71.456   \n",
      "307        351.263         332.485  1.522       631.514  ...        71.286   \n",
      "\n",
      "     Lower-HeatT-3  Upper-HeatT-3   ChipMass-4   WeakLiquorF   BlackFlow-2   \\\n",
      "0          329.432         303.099      175.964      1127.197      1319.039   \n",
      "1          330.823         304.879      163.202       665.975      1297.317   \n",
      "2          329.140         303.383      164.013       677.534      1327.072   \n",
      "3          328.875         302.254      181.487       767.853      1324.461   \n",
      "4          328.352         300.954      183.929       888.448      1343.424   \n",
      "..             ...             ...          ...           ...           ...   \n",
      "298        332.924         307.626      145.299       832.906      1344.708   \n",
      "299        332.523         307.169      151.544       905.639      1344.469   \n",
      "300        331.263         306.400      157.954       908.691      1344.588   \n",
      "301        333.032         308.732      174.069       986.206      1348.747   \n",
      "307        328.699         300.706      180.229       903.605      1323.082   \n",
      "\n",
      "     WeakWashF   SteamHeatF-3   T-Top-Chips-4   SulphidityL-4   \n",
      "0       257.325         54.612         252.077             NaN  \n",
      "1       241.182         46.603         251.406           29.11  \n",
      "2       237.272         51.795         251.335             NaN  \n",
      "3       239.478         54.846         250.312           29.02  \n",
      "4       215.372         54.186         249.916           29.01  \n",
      "..          ...            ...             ...             ...  \n",
      "298     388.911         49.524         251.833           30.29  \n",
      "299     418.979         48.135         251.614           30.47  \n",
      "300     462.712         54.373         251.197             NaN  \n",
      "301     457.313         53.194         251.324           30.46  \n",
      "307     232.729         54.503         250.084             NaN  \n",
      "\n",
      "[301 rows x 23 columns]\n"
     ]
    }
   ],
   "source": [
    "data = data.drop_duplicates()\n",
    "print(data)"
   ]
  },
  {
   "cell_type": "code",
   "execution_count": 10,
   "id": "40e52f46",
   "metadata": {},
   "outputs": [
    {
     "name": "stdout",
     "output_type": "stream",
     "text": [
      "     Observation  Y-Kappa  ChipRate  BF-CMratio  BlowFlow  ChipLevel4   \\\n",
      "0          False    False     False       False     False        False   \n",
      "1          False    False     False       False     False        False   \n",
      "2          False    False     False       False     False        False   \n",
      "3          False    False     False       False     False        False   \n",
      "4          False    False     False       False     False        False   \n",
      "..           ...      ...       ...         ...       ...          ...   \n",
      "298        False    False     False       False     False        False   \n",
      "299        False    False      True       False     False        False   \n",
      "300        False    False      True       False     False        False   \n",
      "301        False    False      True       False     False        False   \n",
      "307        False    False     False       False     False        False   \n",
      "\n",
      "     T-upperExt-2   T-lowerExt-2    UCZAA  WhiteFlow-4   ...  SteamFlow-4   \\\n",
      "0            False           False  False         False  ...         False   \n",
      "1            False           False  False         False  ...         False   \n",
      "2            False           False  False         False  ...         False   \n",
      "3            False           False  False         False  ...         False   \n",
      "4            False           False   True         False  ...         False   \n",
      "..             ...             ...    ...           ...  ...           ...   \n",
      "298          False           False  False         False  ...         False   \n",
      "299          False           False   True         False  ...         False   \n",
      "300          False           False   True         False  ...         False   \n",
      "301          False           False   True         False  ...         False   \n",
      "307          False           False  False         False  ...         False   \n",
      "\n",
      "     Lower-HeatT-3  Upper-HeatT-3   ChipMass-4   WeakLiquorF   BlackFlow-2   \\\n",
      "0            False           False        False         False         False   \n",
      "1            False           False        False         False         False   \n",
      "2            False           False        False         False         False   \n",
      "3            False           False        False         False         False   \n",
      "4            False           False        False         False         False   \n",
      "..             ...             ...          ...           ...           ...   \n",
      "298          False           False        False         False         False   \n",
      "299          False           False        False         False         False   \n",
      "300          False           False        False         False         False   \n",
      "301          False           False        False         False         False   \n",
      "307          False           False        False         False         False   \n",
      "\n",
      "     WeakWashF   SteamHeatF-3   T-Top-Chips-4   SulphidityL-4   \n",
      "0         False          False           False            True  \n",
      "1         False          False           False           False  \n",
      "2         False          False           False            True  \n",
      "3         False          False           False           False  \n",
      "4         False          False           False           False  \n",
      "..          ...            ...             ...             ...  \n",
      "298       False          False           False           False  \n",
      "299       False          False           False           False  \n",
      "300       False          False           False            True  \n",
      "301       False          False           False           False  \n",
      "307       False          False           False            True  \n",
      "\n",
      "[301 rows x 23 columns]\n"
     ]
    }
   ],
   "source": [
    "print(data.isnull())"
   ]
  },
  {
   "cell_type": "code",
   "execution_count": 11,
   "id": "4a7752f0",
   "metadata": {},
   "outputs": [
    {
     "name": "stdout",
     "output_type": "stream",
     "text": [
      "Observation          0\n",
      "Y-Kappa              0\n",
      "ChipRate             4\n",
      "BF-CMratio          14\n",
      "BlowFlow            13\n",
      "ChipLevel4           1\n",
      "T-upperExt-2         1\n",
      "T-lowerExt-2         1\n",
      "UCZAA               24\n",
      "WhiteFlow-4          1\n",
      "AAWhiteSt-4        141\n",
      "AA-Wood-4            1\n",
      "ChipMoisture-4       1\n",
      "SteamFlow-4          1\n",
      "Lower-HeatT-3        1\n",
      "Upper-HeatT-3        1\n",
      "ChipMass-4           1\n",
      "WeakLiquorF          1\n",
      "BlackFlow-2          1\n",
      "WeakWashF            1\n",
      "SteamHeatF-3         1\n",
      "T-Top-Chips-4        1\n",
      "SulphidityL-4      141\n",
      "dtype: int64\n"
     ]
    }
   ],
   "source": [
    "print(data.isnull().sum())"
   ]
  },
  {
   "cell_type": "code",
   "execution_count": 12,
   "id": "e3022767",
   "metadata": {},
   "outputs": [
    {
     "name": "stdout",
     "output_type": "stream",
     "text": [
      "     Observation  Y-Kappa  ChipRate  BF-CMratio  BlowFlow  ChipLevel4   \\\n",
      "0           True     True      True        True      True         True   \n",
      "1           True     True      True        True      True         True   \n",
      "2           True     True      True        True      True         True   \n",
      "3           True     True      True        True      True         True   \n",
      "4           True     True      True        True      True         True   \n",
      "..           ...      ...       ...         ...       ...          ...   \n",
      "298         True     True      True        True      True         True   \n",
      "299         True     True     False        True      True         True   \n",
      "300         True     True     False        True      True         True   \n",
      "301         True     True     False        True      True         True   \n",
      "307         True     True      True        True      True         True   \n",
      "\n",
      "     T-upperExt-2   T-lowerExt-2    UCZAA  WhiteFlow-4   ...  SteamFlow-4   \\\n",
      "0             True            True   True          True  ...          True   \n",
      "1             True            True   True          True  ...          True   \n",
      "2             True            True   True          True  ...          True   \n",
      "3             True            True   True          True  ...          True   \n",
      "4             True            True  False          True  ...          True   \n",
      "..             ...             ...    ...           ...  ...           ...   \n",
      "298           True            True   True          True  ...          True   \n",
      "299           True            True  False          True  ...          True   \n",
      "300           True            True  False          True  ...          True   \n",
      "301           True            True  False          True  ...          True   \n",
      "307           True            True   True          True  ...          True   \n",
      "\n",
      "     Lower-HeatT-3  Upper-HeatT-3   ChipMass-4   WeakLiquorF   BlackFlow-2   \\\n",
      "0             True            True         True          True          True   \n",
      "1             True            True         True          True          True   \n",
      "2             True            True         True          True          True   \n",
      "3             True            True         True          True          True   \n",
      "4             True            True         True          True          True   \n",
      "..             ...             ...          ...           ...           ...   \n",
      "298           True            True         True          True          True   \n",
      "299           True            True         True          True          True   \n",
      "300           True            True         True          True          True   \n",
      "301           True            True         True          True          True   \n",
      "307           True            True         True          True          True   \n",
      "\n",
      "     WeakWashF   SteamHeatF-3   T-Top-Chips-4   SulphidityL-4   \n",
      "0          True           True            True           False  \n",
      "1          True           True            True            True  \n",
      "2          True           True            True           False  \n",
      "3          True           True            True            True  \n",
      "4          True           True            True            True  \n",
      "..          ...            ...             ...             ...  \n",
      "298        True           True            True            True  \n",
      "299        True           True            True            True  \n",
      "300        True           True            True           False  \n",
      "301        True           True            True            True  \n",
      "307        True           True            True           False  \n",
      "\n",
      "[301 rows x 23 columns]\n"
     ]
    }
   ],
   "source": [
    "print(data.notnull())"
   ]
  },
  {
   "cell_type": "code",
   "execution_count": 13,
   "id": "5df54d9b",
   "metadata": {},
   "outputs": [
    {
     "name": "stdout",
     "output_type": "stream",
     "text": [
      "352\n"
     ]
    }
   ],
   "source": [
    "print(data.isnull().sum().sum())"
   ]
  },
  {
   "cell_type": "code",
   "execution_count": 14,
   "id": "fa0878ec",
   "metadata": {},
   "outputs": [
    {
     "name": "stdout",
     "output_type": "stream",
     "text": [
      "    Observation  Y-Kappa  ChipRate  BF-CMratio  BlowFlow  ChipLevel4   \\\n",
      "0      31-00:00    23.10    16.520     121.717  1177.607      169.805   \n",
      "1      31-01:00    27.60    16.810      79.022  1328.360      341.327   \n",
      "2      31-02:00    23.19    16.709      79.562  1329.407      239.161   \n",
      "3      31-03:00    23.60    16.478      81.011  1334.877      213.527   \n",
      "4      31-04:00    22.90    15.618      93.244  1334.168      243.131   \n",
      "..          ...      ...       ...         ...       ...          ...   \n",
      "298    12-09:00    20.90    15.167      84.640  1283.706      339.440   \n",
      "299    12-10:00    24.98     0.000      85.034  1278.345      368.564   \n",
      "300    12-11:00    21.00     0.000      88.013  1307.722      278.842   \n",
      "301    12-12:00    21.40     0.000      85.490  1255.986      273.484   \n",
      "307    31-05:00    20.89    14.308      94.172  1327.832      251.120   \n",
      "\n",
      "     T-upperExt-2   T-lowerExt-2    UCZAA  WhiteFlow-4   ...  SteamFlow-4   \\\n",
      "0          358.282         329.545  1.443       599.253  ...        67.122   \n",
      "1          351.050         329.067  1.549       537.201  ...        60.012   \n",
      "2          350.022         329.260  1.600       549.611  ...        61.304   \n",
      "3          350.938         331.142  1.604       623.362  ...        68.496   \n",
      "4          351.640         332.709  0.000       638.672  ...        70.022   \n",
      "..             ...             ...    ...           ...  ...           ...   \n",
      "298        354.803         311.041  1.635       532.419  ...        65.561   \n",
      "299        357.723         321.387  0.000       520.365  ...        65.729   \n",
      "300        357.438         323.757  0.000       553.070  ...        65.795   \n",
      "301        361.365         322.689  0.000       590.199  ...        71.456   \n",
      "307        351.263         332.485  1.522       631.514  ...        71.286   \n",
      "\n",
      "     Lower-HeatT-3  Upper-HeatT-3   ChipMass-4   WeakLiquorF   BlackFlow-2   \\\n",
      "0          329.432         303.099      175.964      1127.197      1319.039   \n",
      "1          330.823         304.879      163.202       665.975      1297.317   \n",
      "2          329.140         303.383      164.013       677.534      1327.072   \n",
      "3          328.875         302.254      181.487       767.853      1324.461   \n",
      "4          328.352         300.954      183.929       888.448      1343.424   \n",
      "..             ...             ...          ...           ...           ...   \n",
      "298        332.924         307.626      145.299       832.906      1344.708   \n",
      "299        332.523         307.169      151.544       905.639      1344.469   \n",
      "300        331.263         306.400      157.954       908.691      1344.588   \n",
      "301        333.032         308.732      174.069       986.206      1348.747   \n",
      "307        328.699         300.706      180.229       903.605      1323.082   \n",
      "\n",
      "     WeakWashF   SteamHeatF-3   T-Top-Chips-4   SulphidityL-4   \n",
      "0       257.325         54.612         252.077            0.00  \n",
      "1       241.182         46.603         251.406           29.11  \n",
      "2       237.272         51.795         251.335            0.00  \n",
      "3       239.478         54.846         250.312           29.02  \n",
      "4       215.372         54.186         249.916           29.01  \n",
      "..          ...            ...             ...             ...  \n",
      "298     388.911         49.524         251.833           30.29  \n",
      "299     418.979         48.135         251.614           30.47  \n",
      "300     462.712         54.373         251.197            0.00  \n",
      "301     457.313         53.194         251.324           30.46  \n",
      "307     232.729         54.503         250.084            0.00  \n",
      "\n",
      "[301 rows x 23 columns]\n"
     ]
    }
   ],
   "source": [
    "data2 = data.fillna(value = 0)\n",
    "print(data2)"
   ]
  },
  {
   "cell_type": "code",
   "execution_count": 15,
   "id": "8ae80c4b",
   "metadata": {},
   "outputs": [
    {
     "name": "stdout",
     "output_type": "stream",
     "text": [
      "    Observation  Y-Kappa  ChipRate  BF-CMratio  BlowFlow  ChipLevel4   \\\n",
      "0      31-00:00    23.10    16.520     121.717  1177.607      169.805   \n",
      "1      31-01:00    27.60    16.810      79.022  1328.360      341.327   \n",
      "2      31-02:00    23.19    16.709      79.562  1329.407      239.161   \n",
      "3      31-03:00    23.60    16.478      81.011  1334.877      213.527   \n",
      "4      31-04:00    22.90    15.618      93.244  1334.168      243.131   \n",
      "..          ...      ...       ...         ...       ...          ...   \n",
      "298    12-09:00    20.90    15.167      84.640  1283.706      339.440   \n",
      "299    12-10:00    24.98    15.167      85.034  1278.345      368.564   \n",
      "300    12-11:00    21.00    15.167      88.013  1307.722      278.842   \n",
      "301    12-12:00    21.40    15.167      85.490  1255.986      273.484   \n",
      "307    31-05:00    20.89    14.308      94.172  1327.832      251.120   \n",
      "\n",
      "     T-upperExt-2   T-lowerExt-2    UCZAA  WhiteFlow-4   ...  SteamFlow-4   \\\n",
      "0          358.282         329.545  1.443       599.253  ...        67.122   \n",
      "1          351.050         329.067  1.549       537.201  ...        60.012   \n",
      "2          350.022         329.260  1.600       549.611  ...        61.304   \n",
      "3          350.938         331.142  1.604       623.362  ...        68.496   \n",
      "4          351.640         332.709  1.604       638.672  ...        70.022   \n",
      "..             ...             ...    ...           ...  ...           ...   \n",
      "298        354.803         311.041  1.635       532.419  ...        65.561   \n",
      "299        357.723         321.387  1.635       520.365  ...        65.729   \n",
      "300        357.438         323.757  1.635       553.070  ...        65.795   \n",
      "301        361.365         322.689  1.635       590.199  ...        71.456   \n",
      "307        351.263         332.485  1.522       631.514  ...        71.286   \n",
      "\n",
      "     Lower-HeatT-3  Upper-HeatT-3   ChipMass-4   WeakLiquorF   BlackFlow-2   \\\n",
      "0          329.432         303.099      175.964      1127.197      1319.039   \n",
      "1          330.823         304.879      163.202       665.975      1297.317   \n",
      "2          329.140         303.383      164.013       677.534      1327.072   \n",
      "3          328.875         302.254      181.487       767.853      1324.461   \n",
      "4          328.352         300.954      183.929       888.448      1343.424   \n",
      "..             ...             ...          ...           ...           ...   \n",
      "298        332.924         307.626      145.299       832.906      1344.708   \n",
      "299        332.523         307.169      151.544       905.639      1344.469   \n",
      "300        331.263         306.400      157.954       908.691      1344.588   \n",
      "301        333.032         308.732      174.069       986.206      1348.747   \n",
      "307        328.699         300.706      180.229       903.605      1323.082   \n",
      "\n",
      "     WeakWashF   SteamHeatF-3   T-Top-Chips-4   SulphidityL-4   \n",
      "0       257.325         54.612         252.077             NaN  \n",
      "1       241.182         46.603         251.406           29.11  \n",
      "2       237.272         51.795         251.335           29.11  \n",
      "3       239.478         54.846         250.312           29.02  \n",
      "4       215.372         54.186         249.916           29.01  \n",
      "..          ...            ...             ...             ...  \n",
      "298     388.911         49.524         251.833           30.29  \n",
      "299     418.979         48.135         251.614           30.47  \n",
      "300     462.712         54.373         251.197           30.47  \n",
      "301     457.313         53.194         251.324           30.46  \n",
      "307     232.729         54.503         250.084           30.46  \n",
      "\n",
      "[301 rows x 23 columns]\n"
     ]
    }
   ],
   "source": [
    "data3 = data.fillna(method = 'pad')\n",
    "print(data3)"
   ]
  },
  {
   "cell_type": "code",
   "execution_count": 16,
   "id": "c59f06a9",
   "metadata": {},
   "outputs": [
    {
     "name": "stdout",
     "output_type": "stream",
     "text": [
      "    Observation  Y-Kappa  ChipRate  BF-CMratio  BlowFlow  ChipLevel4   \\\n",
      "0      31-00:00    23.10    16.520     121.717  1177.607      169.805   \n",
      "1      31-01:00    27.60    16.810      79.022  1328.360      341.327   \n",
      "2      31-02:00    23.19    16.709      79.562  1329.407      239.161   \n",
      "3      31-03:00    23.60    16.478      81.011  1334.877      213.527   \n",
      "4      31-04:00    22.90    15.618      93.244  1334.168      243.131   \n",
      "..          ...      ...       ...         ...       ...          ...   \n",
      "298    12-09:00    20.90    15.167      84.640  1283.706      339.440   \n",
      "299    12-10:00    24.98    14.308      85.034  1278.345      368.564   \n",
      "300    12-11:00    21.00    14.308      88.013  1307.722      278.842   \n",
      "301    12-12:00    21.40    14.308      85.490  1255.986      273.484   \n",
      "307    31-05:00    20.89    14.308      94.172  1327.832      251.120   \n",
      "\n",
      "     T-upperExt-2   T-lowerExt-2    UCZAA  WhiteFlow-4   ...  SteamFlow-4   \\\n",
      "0          358.282         329.545  1.443       599.253  ...        67.122   \n",
      "1          351.050         329.067  1.549       537.201  ...        60.012   \n",
      "2          350.022         329.260  1.600       549.611  ...        61.304   \n",
      "3          350.938         331.142  1.604       623.362  ...        68.496   \n",
      "4          351.640         332.709  1.436       638.672  ...        70.022   \n",
      "..             ...             ...    ...           ...  ...           ...   \n",
      "298        354.803         311.041  1.635       532.419  ...        65.561   \n",
      "299        357.723         321.387  1.522       520.365  ...        65.729   \n",
      "300        357.438         323.757  1.522       553.070  ...        65.795   \n",
      "301        361.365         322.689  1.522       590.199  ...        71.456   \n",
      "307        351.263         332.485  1.522       631.514  ...        71.286   \n",
      "\n",
      "     Lower-HeatT-3  Upper-HeatT-3   ChipMass-4   WeakLiquorF   BlackFlow-2   \\\n",
      "0          329.432         303.099      175.964      1127.197      1319.039   \n",
      "1          330.823         304.879      163.202       665.975      1297.317   \n",
      "2          329.140         303.383      164.013       677.534      1327.072   \n",
      "3          328.875         302.254      181.487       767.853      1324.461   \n",
      "4          328.352         300.954      183.929       888.448      1343.424   \n",
      "..             ...             ...          ...           ...           ...   \n",
      "298        332.924         307.626      145.299       832.906      1344.708   \n",
      "299        332.523         307.169      151.544       905.639      1344.469   \n",
      "300        331.263         306.400      157.954       908.691      1344.588   \n",
      "301        333.032         308.732      174.069       986.206      1348.747   \n",
      "307        328.699         300.706      180.229       903.605      1323.082   \n",
      "\n",
      "     WeakWashF   SteamHeatF-3   T-Top-Chips-4   SulphidityL-4   \n",
      "0       257.325         54.612         252.077           29.11  \n",
      "1       241.182         46.603         251.406           29.11  \n",
      "2       237.272         51.795         251.335           29.02  \n",
      "3       239.478         54.846         250.312           29.02  \n",
      "4       215.372         54.186         249.916           29.01  \n",
      "..          ...            ...             ...             ...  \n",
      "298     388.911         49.524         251.833           30.29  \n",
      "299     418.979         48.135         251.614           30.47  \n",
      "300     462.712         54.373         251.197           30.46  \n",
      "301     457.313         53.194         251.324           30.46  \n",
      "307     232.729         54.503         250.084             NaN  \n",
      "\n",
      "[301 rows x 23 columns]\n"
     ]
    }
   ],
   "source": [
    "data4 = data.fillna(method = 'bfill')\n",
    "print(data4)"
   ]
  },
  {
   "cell_type": "code",
   "execution_count": 17,
   "id": "c9562354",
   "metadata": {},
   "outputs": [
    {
     "name": "stdout",
     "output_type": "stream",
     "text": [
      "    Observation  Y-Kappa  ChipRate  BF-CMratio  BlowFlow  ChipLevel4   \\\n",
      "0      31-00:00    23.10    16.520     121.717  1177.607      169.805   \n",
      "1      31-01:00    27.60    16.810      79.022  1328.360      341.327   \n",
      "2      31-02:00    23.19    16.709      79.562  1329.407      239.161   \n",
      "3      31-03:00    23.60    16.478      81.011  1334.877      213.527   \n",
      "4      31-04:00    22.90    15.618      93.244  1334.168      243.131   \n",
      "..          ...      ...       ...         ...       ...          ...   \n",
      "298    12-09:00    20.90    15.167      84.640  1283.706      339.440   \n",
      "299    12-10:00    24.98    15.167      85.034  1278.345      368.564   \n",
      "300    12-11:00    21.00    15.167      88.013  1307.722      278.842   \n",
      "301    12-12:00    21.40    15.167      85.490  1255.986      273.484   \n",
      "307    31-05:00    20.89    14.308      94.172  1327.832      251.120   \n",
      "\n",
      "     T-upperExt-2   T-lowerExt-2    UCZAA  WhiteFlow-4   ...  SteamFlow-4   \\\n",
      "0          358.282         329.545  1.443       599.253  ...        67.122   \n",
      "1          351.050         329.067  1.549       537.201  ...        60.012   \n",
      "2          350.022         329.260  1.600       549.611  ...        61.304   \n",
      "3          350.938         331.142  1.604       623.362  ...        68.496   \n",
      "4          351.640         332.709  1.604       638.672  ...        70.022   \n",
      "..             ...             ...    ...           ...  ...           ...   \n",
      "298        354.803         311.041  1.635       532.419  ...        65.561   \n",
      "299        357.723         321.387  1.635       520.365  ...        65.729   \n",
      "300        357.438         323.757  1.635       553.070  ...        65.795   \n",
      "301        361.365         322.689  1.635       590.199  ...        71.456   \n",
      "307        351.263         332.485  1.522       631.514  ...        71.286   \n",
      "\n",
      "     Lower-HeatT-3  Upper-HeatT-3   ChipMass-4   WeakLiquorF   BlackFlow-2   \\\n",
      "0          329.432         303.099      175.964      1127.197      1319.039   \n",
      "1          330.823         304.879      163.202       665.975      1297.317   \n",
      "2          329.140         303.383      164.013       677.534      1327.072   \n",
      "3          328.875         302.254      181.487       767.853      1324.461   \n",
      "4          328.352         300.954      183.929       888.448      1343.424   \n",
      "..             ...             ...          ...           ...           ...   \n",
      "298        332.924         307.626      145.299       832.906      1344.708   \n",
      "299        332.523         307.169      151.544       905.639      1344.469   \n",
      "300        331.263         306.400      157.954       908.691      1344.588   \n",
      "301        333.032         308.732      174.069       986.206      1348.747   \n",
      "307        328.699         300.706      180.229       903.605      1323.082   \n",
      "\n",
      "     WeakWashF   SteamHeatF-3   T-Top-Chips-4   SulphidityL-4   \n",
      "0       257.325         54.612         252.077             NaN  \n",
      "1       241.182         46.603         251.406           29.11  \n",
      "2       237.272         51.795         251.335           29.11  \n",
      "3       239.478         54.846         250.312           29.02  \n",
      "4       215.372         54.186         249.916           29.01  \n",
      "..          ...            ...             ...             ...  \n",
      "298     388.911         49.524         251.833           30.29  \n",
      "299     418.979         48.135         251.614           30.47  \n",
      "300     462.712         54.373         251.197           30.47  \n",
      "301     457.313         53.194         251.324           30.46  \n",
      "307     232.729         54.503         250.084           30.46  \n",
      "\n",
      "[301 rows x 23 columns]\n"
     ]
    }
   ],
   "source": [
    "data5 = data.fillna(method = 'ffill')\n",
    "print(data5)"
   ]
  },
  {
   "cell_type": "code",
   "execution_count": 18,
   "id": "27db8ad6",
   "metadata": {},
   "outputs": [
    {
     "name": "stderr",
     "output_type": "stream",
     "text": [
      "C:\\Users\\banda\\anaconda3\\lib\\site-packages\\scipy\\__init__.py:155: UserWarning: A NumPy version >=1.18.5 and <1.25.0 is required for this version of SciPy (detected version 1.26.4\n",
      "  warnings.warn(f\"A NumPy version >={np_minversion} and <{np_maxversion}\"\n"
     ]
    }
   ],
   "source": [
    "import numpy as np\n",
    "import matplotlib.pyplot as plt\n",
    "from scipy import stats"
   ]
  },
  {
   "cell_type": "code",
   "execution_count": 19,
   "id": "29a8f0aa",
   "metadata": {},
   "outputs": [
    {
     "name": "stdout",
     "output_type": "stream",
     "text": [
      "Index(['Observation', 'Y-Kappa', 'ChipRate', 'BF-CMratio', 'BlowFlow',\n",
      "       'ChipLevel4 ', 'T-upperExt-2 ', 'T-lowerExt-2  ', 'UCZAA',\n",
      "       'WhiteFlow-4 ', 'AAWhiteSt-4 ', 'AA-Wood-4  ', 'ChipMoisture-4 ',\n",
      "       'SteamFlow-4 ', 'Lower-HeatT-3', 'Upper-HeatT-3 ', 'ChipMass-4 ',\n",
      "       'WeakLiquorF ', 'BlackFlow-2 ', 'WeakWashF ', 'SteamHeatF-3 ',\n",
      "       'T-Top-Chips-4 ', 'SulphidityL-4 '],\n",
      "      dtype='object')\n"
     ]
    }
   ],
   "source": [
    "print(data2.columns)"
   ]
  },
  {
   "cell_type": "code",
   "execution_count": 20,
   "id": "f38face6",
   "metadata": {},
   "outputs": [
    {
     "name": "stdout",
     "output_type": "stream",
     "text": [
      "Index(['Y-Kappa', 'ChipRate', 'BF-CMratio', 'BlowFlow', 'ChipLevel4 ',\n",
      "       'T-upperExt-2 ', 'T-lowerExt-2  ', 'UCZAA', 'WhiteFlow-4 ',\n",
      "       'AAWhiteSt-4 ', 'AA-Wood-4  ', 'ChipMoisture-4 ', 'SteamFlow-4 ',\n",
      "       'Lower-HeatT-3', 'Upper-HeatT-3 ', 'ChipMass-4 ', 'WeakLiquorF ',\n",
      "       'BlackFlow-2 ', 'WeakWashF ', 'SteamHeatF-3 ', 'T-Top-Chips-4 ',\n",
      "       'SulphidityL-4 '],\n",
      "      dtype='object')\n"
     ]
    }
   ],
   "source": [
    "data2.drop(['Observation'], axis = 1, inplace = True)\n",
    "print(data2.columns)"
   ]
  },
  {
   "cell_type": "code",
   "execution_count": 21,
   "id": "ab3cef1b",
   "metadata": {},
   "outputs": [
    {
     "name": "stdout",
     "output_type": "stream",
     "text": [
      "Y-Kappa              4.550\n",
      "ChipRate             2.233\n",
      "BF-CMratio          10.912\n",
      "BlowFlow            96.766\n",
      "ChipLevel4         105.868\n",
      "T-upperExt-2        11.994\n",
      "T-lowerExt-2         7.609\n",
      "UCZAA                0.152\n",
      "WhiteFlow-4        100.098\n",
      "AAWhiteSt-4          6.143\n",
      "AA-Wood-4            1.486\n",
      "ChipMoisture-4       2.186\n",
      "SteamFlow-4          8.840\n",
      "Lower-HeatT-3        8.585\n",
      "Upper-HeatT-3        7.852\n",
      "ChipMass-4          19.347\n",
      "WeakLiquorF        180.613\n",
      "BlackFlow-2        280.829\n",
      "WeakWashF          267.219\n",
      "SteamHeatF-3         6.903\n",
      "T-Top-Chips-4        2.044\n",
      "SulphidityL-4       30.420\n",
      "dtype: float64\n"
     ]
    }
   ],
   "source": [
    "data_numeric = data2.select_dtypes(include=[np.number])  # Select numeric columns\n",
    "Q1 = data_numeric.quantile(0.25)\n",
    "Q3 = data_numeric.quantile(0.75)\n",
    "IQR = Q3 - Q1\n",
    "print(IQR)"
   ]
  },
  {
   "cell_type": "code",
   "execution_count": 22,
   "id": "8689c2bc",
   "metadata": {},
   "outputs": [
    {
     "name": "stdout",
     "output_type": "stream",
     "text": [
      "     Y-Kappa  ChipRate  BF-CMratio  BlowFlow  ChipLevel4   T-upperExt-2   \\\n",
      "1      27.60    16.810      79.022  1328.360      341.327        351.050   \n",
      "2      23.19    16.709      79.562  1329.407      239.161        350.022   \n",
      "3      23.60    16.478      81.011  1334.877      213.527        350.938   \n",
      "5      14.23    15.350      85.518  1171.604      198.538        344.014   \n",
      "6      13.49    13.700      98.186  1243.688      116.275        346.208   \n",
      "..       ...       ...         ...       ...          ...            ...   \n",
      "276    22.70    15.517      83.008  1288.010      306.886        350.155   \n",
      "296    20.50    13.358      97.662  1304.597      377.678        347.672   \n",
      "297    20.40    14.233      89.790  1278.006      379.458        354.290   \n",
      "298    20.90    15.167      84.640  1283.706      339.440        354.803   \n",
      "307    20.89    14.308      94.172  1327.832      251.120        351.263   \n",
      "\n",
      "     T-lowerExt-2    UCZAA  WhiteFlow-4   AAWhiteSt-4   ...  SteamFlow-4   \\\n",
      "1           329.067  1.549       537.201         6.076  ...        60.012   \n",
      "2           329.260  1.600       549.611         0.000  ...        61.304   \n",
      "3           331.142  1.604       623.362         6.054  ...        68.496   \n",
      "5           325.195  1.436       628.245         6.020  ...        65.225   \n",
      "6           326.982  1.434       696.766         0.000  ...        72.989   \n",
      "..              ...    ...           ...           ...  ...           ...   \n",
      "276         322.485  1.590       568.752         6.170  ...        67.678   \n",
      "296         313.147  1.546       496.460         6.340  ...        60.119   \n",
      "297         315.558  1.515       491.374         0.000  ...        60.424   \n",
      "298         311.041  1.635       532.419         6.340  ...        65.561   \n",
      "307         332.485  1.522       631.514         0.000  ...        71.286   \n",
      "\n",
      "     Lower-HeatT-3  Upper-HeatT-3   ChipMass-4   WeakLiquorF   BlackFlow-2   \\\n",
      "1          330.823         304.879      163.202       665.975      1297.317   \n",
      "2          329.140         303.383      164.013       677.534      1327.072   \n",
      "3          328.875         302.254      181.487       767.853      1324.461   \n",
      "5          322.103         298.517      165.814       826.243       907.641   \n",
      "6          322.982         296.080      182.018       784.281       929.527   \n",
      "..             ...             ...          ...           ...           ...   \n",
      "276        331.854         309.346      160.061       910.013      1381.389   \n",
      "296        332.615         308.575      141.076       997.904      1334.703   \n",
      "297        331.980         308.078      140.301       975.016      1344.835   \n",
      "298        332.924         307.626      145.299       832.906      1344.708   \n",
      "307        328.699         300.706      180.229       903.605      1323.082   \n",
      "\n",
      "     WeakWashF   SteamHeatF-3   T-Top-Chips-4   SulphidityL-4   \n",
      "1       241.182         46.603         251.406           29.11  \n",
      "2       237.272         51.795         251.335            0.00  \n",
      "3       239.478         54.846         250.312           29.02  \n",
      "5       595.875         52.807         249.580           30.34  \n",
      "6       201.272         58.118         248.741            0.00  \n",
      "..          ...            ...             ...             ...  \n",
      "276     441.934         51.466         252.216           29.59  \n",
      "296     389.497         46.206         252.423           30.43  \n",
      "297     388.676         47.803         252.311            0.00  \n",
      "298     388.911         49.524         251.833           30.29  \n",
      "307     232.729         54.503         250.084            0.00  \n",
      "\n",
      "[226 rows x 22 columns]\n"
     ]
    }
   ],
   "source": [
    "data_cleaned = data2[~((data_numeric < (Q1 - 1.5 * IQR)) | (data_numeric > (Q3 + 1.5 * IQR))).any(axis=1)]\n",
    "print(data_cleaned)"
   ]
  },
  {
   "cell_type": "code",
   "execution_count": 23,
   "id": "01946abb",
   "metadata": {},
   "outputs": [],
   "source": [
    "data_cleaned_array = data_cleaned.select_dtypes(include=[np.number]).to_numpy()"
   ]
  },
  {
   "cell_type": "code",
   "execution_count": 24,
   "id": "d51b6404",
   "metadata": {},
   "outputs": [
    {
     "data": {
      "image/png": "[encoded data removed]",
      "text/plain": [
       "<Figure size 1200x500 with 2 Axes>"
      ]
     },
     "metadata": {},
     "output_type": "display_data"
    }
   ],
   "source": [
    "fig, axs = plt.subplots(1, 2, figsize=(12, 5))\n",
    "axs[0].boxplot(data_numeric.values)\n",
    "axs[0].set_title('Before Outlier Removal')\n",
    "axs[1].boxplot(data_cleaned_array)\n",
    "axs[1].set_title('After Outlier Removal')\n",
    "plt.show()"
   ]
  },
  {
   "cell_type": "code",
   "execution_count": 25,
   "id": "38c1fd6b",
   "metadata": {},
   "outputs": [
    {
     "name": "stdout",
     "output_type": "stream",
     "text": [
      "          Y-Kappa    ChipRate  BF-CMratio     BlowFlow  ChipLevel4   \\\n",
      "count  226.000000  226.000000  226.000000   226.000000   226.000000   \n",
      "mean    20.690487   14.673491   85.882181  1255.288916   264.664912   \n",
      "std      2.982916    1.297369    7.033155    47.896055    74.345135   \n",
      "min     12.480000   10.833000   68.645000  1084.083000    61.783000   \n",
      "25%     18.457500   13.850000   80.984000  1221.926000   220.356000   \n",
      "50%     20.775000   14.729000   84.967000  1280.291500   270.965000   \n",
      "75%     23.010000   15.708000   91.178750  1289.254000   322.492000   \n",
      "max     27.600000   16.958000  108.104000  1351.240000   419.014000   \n",
      "\n",
      "       T-upperExt-2   T-lowerExt-2         UCZAA  WhiteFlow-4   AAWhiteSt-4   \\\n",
      "count     226.000000      226.000000  226.000000    226.000000    226.000000   \n",
      "mean      356.861681      325.341124    1.487146    603.242482      3.098164   \n",
      "std         7.466897        5.557537    0.108054     61.052197      3.078138   \n",
      "min       340.222000      310.421000    1.182000    468.841000      0.000000   \n",
      "25%       350.704250      322.355500    1.429000    549.611000      0.000000   \n",
      "50%       357.560500      326.508500    1.492000    602.508000      5.904500   \n",
      "75%       361.555000      329.264500    1.556000    653.358500      6.140000   \n",
      "max       375.047000      337.012000    1.712000    731.394000      6.340000   \n",
      "\n",
      "       ...  SteamFlow-4   Lower-HeatT-3  Upper-HeatT-3   ChipMass-4   \\\n",
      "count  ...    226.000000     226.000000      226.000000   226.000000   \n",
      "mean   ...     67.545478     324.752212      299.655420   164.220102   \n",
      "std    ...      4.914301       4.526481        4.383788    11.423269   \n",
      "min    ...     52.962000     318.051000      293.312000   133.878000   \n",
      "25%    ...     63.954000     321.179500      296.338500   156.091000   \n",
      "50%    ...     68.147000     322.380000      297.636500   164.333000   \n",
      "75%    ...     71.760750     329.575000      303.777000   172.555000   \n",
      "max    ...     75.974000     333.223000      309.854000   189.268000   \n",
      "\n",
      "       WeakLiquorF   BlackFlow-2   WeakWashF   SteamHeatF-3   T-Top-Chips-4   \\\n",
      "count    226.000000    226.000000  226.000000     226.000000      226.000000   \n",
      "mean     874.123035   1149.895257  273.739403      49.810239      251.177779   \n",
      "std      120.259977    150.321416  163.452307       4.143153        1.221296   \n",
      "min      596.446000    838.948000    0.000000      38.283000      248.359000   \n",
      "25%      784.366750   1014.977000  149.331750      46.639750      250.290750   \n",
      "50%      866.170000   1126.513500  283.079500      50.128500      251.233000   \n",
      "75%      968.683250   1302.847000  414.599750      52.889250      252.240000   \n",
      "max     1132.181000   1392.868000  715.715000      59.564000      254.122000   \n",
      "\n",
      "       SulphidityL-4   \n",
      "count      226.000000  \n",
      "mean        15.391987  \n",
      "std         15.297984  \n",
      "min          0.000000  \n",
      "25%          0.000000  \n",
      "50%         29.065000  \n",
      "75%         30.437500  \n",
      "max         32.840000  \n",
      "\n",
      "[8 rows x 22 columns]\n"
     ]
    }
   ],
   "source": [
    "print(data_cleaned.describe())"
   ]
  },
  {
   "cell_type": "code",
   "execution_count": null,
   "id": "4b0593f0",
   "metadata": {},
   "outputs": [],
   "source": []
  }
 ],
 "metadata": {
  "kernelspec": {
   "display_name": "Python 3 (ipykernel)",
   "language": "python",
   "name": "python3"
  },
  "language_info": {
   "codemirror_mode": {
    "name": "ipython",
    "version": 3
   },
   "file_extension": ".py",
   "mimetype": "text/x-python",
   "name": "python",
   "nbconvert_exporter": "python",
   "pygments_lexer": "ipython3",
   "version": "3.9.13"
  }
 },
 "nbformat": 4,
 "nbformat_minor": 5
}
